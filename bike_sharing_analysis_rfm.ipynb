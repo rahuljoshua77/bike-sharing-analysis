{
 "cells": [
  {
   "cell_type": "markdown",
   "id": "3a5caa3e",
   "metadata": {},
   "source": [
    "\n",
    "# Proyek Analisis Data Penyewaan Sepeda - Bike Sharing\n",
    "Proyek ini bertujuan untuk menganalisis dataset penyewaan sepeda dari sistem *Capital Bikeshare* selama dua tahun (2011-2012) di Washington D.C. Hasil analisis ini akan digunakan untuk menjawab beberapa pertanyaan bisnis terkait faktor yang mempengaruhi penyewaan sepeda.\n",
    "\n",
    "## 1. Pengantar\n",
    "Data yang tersedia dalam proyek ini terdiri dari dua dataset utama:\n",
    "- **day.csv**: Data penyewaan sepeda yang diaggregasi secara harian.\n",
    "- **hour.csv**: Data penyewaan sepeda yang diaggregasi secara jam.\n",
    "\n",
    "Kami akan melakukan beberapa tahapan analisis untuk memahami pola dan faktor-faktor yang mempengaruhi penyewaan sepeda.\n"
   ]
  },
  {
   "cell_type": "markdown",
   "id": "18f2c13e",
   "metadata": {},
   "source": [
    "\n",
    "## 2. Tahapan Analisis Data\n",
    "\n",
    "### 2.1. Membaca dan Memahami Dataset\n",
    "Tahapan pertama adalah memuat dataset dan melakukan eksplorasi awal. Hal ini bertujuan untuk memahami struktur data dan variabel-variabel yang ada, seperti suhu (*temperature*), kelembaban (*humidity*), kecepatan angin (*windspeed*), dan cuaca (*weather situation*).\n",
    "\n",
    "Selain itu, kita akan melihat bagaimana penyewaan sepeda dipengaruhi oleh faktor-faktor tersebut.\n"
   ]
  },
  {
   "cell_type": "code",
   "execution_count": null,
   "id": "e9cf8573",
   "metadata": {},
   "outputs": [],
   "source": [
    "\n",
    "import pandas as pd\n",
    "\n",
    "# Membaca dataset\n",
    "df_day = pd.read_csv('day.csv')\n",
    "df_hour = pd.read_csv('hour.csv')\n",
    "\n",
    "# Menampilkan 5 baris pertama dataset day.csv\n",
    "df_day.head()\n"
   ]
  },
  {
   "cell_type": "markdown",
   "id": "63e43dc3",
   "metadata": {},
   "source": [
    "\n",
    "### 2.2. Eksplorasi Data\n",
    "Pada tahap ini, kita melakukan eksplorasi lebih dalam untuk melihat distribusi data serta hubungan antara variabel yang ada, misalnya bagaimana suhu dan kelembaban mempengaruhi jumlah penyewaan sepeda.\n"
   ]
  },
  {
   "cell_type": "code",
   "execution_count": null,
   "id": "982387ca",
   "metadata": {},
   "outputs": [],
   "source": [
    "\n",
    "# Eksplorasi statistik dasar dari df_day\n",
    "df_day.describe()\n"
   ]
  },
  {
   "cell_type": "markdown",
   "id": "d37d762a",
   "metadata": {},
   "source": [
    "\n",
    "## 3. Visualisasi Data\n",
    "\n",
    "Pada bagian ini, kita akan membuat beberapa visualisasi untuk menjawab pertanyaan-pertanyaan bisnis berikut:\n",
    "1. Bagaimana pengaruh suhu dan cuaca terhadap jumlah penyewaan sepeda?\n",
    "2. Bagaimana pola penyewaan sepeda berdasarkan jam dan hari?\n",
    "\n",
    "### 3.1. Visualisasi Pengaruh Suhu Terhadap Penyewaan Sepeda\n"
   ]
  },
  {
   "cell_type": "code",
   "execution_count": null,
   "id": "4ad18023",
   "metadata": {},
   "outputs": [],
   "source": [
    "\n",
    "import seaborn as sns\n",
    "import matplotlib.pyplot as plt\n",
    "\n",
    "# Visualisasi pengaruh suhu terhadap jumlah penyewaan sepeda\n",
    "plt.figure(figsize=(10,6))\n",
    "sns.scatterplot(x='temp', y='cnt', data=df_day)\n",
    "plt.title('Pengaruh Suhu terhadap Penyewaan Sepeda')\n",
    "plt.xlabel('Suhu (Normalized)')\n",
    "plt.ylabel('Jumlah Penyewaan')\n",
    "plt.show()\n"
   ]
  },
  {
   "cell_type": "markdown",
   "id": "52b97899",
   "metadata": {},
   "source": [
    "\n",
    "### 3.2. Visualisasi Pola Penyewaan Berdasarkan Jam (Dari hour.csv)\n",
    "Selanjutnya, kita akan melihat pola penyewaan sepeda berdasarkan jam menggunakan dataset `hour.csv`.\n"
   ]
  },
  {
   "cell_type": "code",
   "execution_count": null,
   "id": "ed82ac45",
   "metadata": {},
   "outputs": [],
   "source": [
    "\n",
    "# Grouping data berdasarkan jam\n",
    "df_hour_grouped = df_hour.groupby(['hr'])['cnt'].mean().reset_index()\n",
    "\n",
    "# Visualisasi pola penyewaan sepeda berdasarkan jam\n",
    "plt.figure(figsize=(10,6))\n",
    "sns.lineplot(x='hr', y='cnt', data=df_hour_grouped)\n",
    "plt.title('Pola Penyewaan Sepeda Berdasarkan Jam')\n",
    "plt.xlabel('Jam')\n",
    "plt.ylabel('Rata-rata Penyewaan')\n",
    "plt.show()\n"
   ]
  },
  {
   "cell_type": "markdown",
   "id": "0bb4ecff",
   "metadata": {},
   "source": [
    "\n",
    "## 4. RFM Analysis (Recency, Frequency, Monetary)\n",
    "\n",
    "RFM analysis adalah teknik yang digunakan untuk mengelompokkan pelanggan berdasarkan waktu terakhir mereka menggunakan layanan (*Recency*), seberapa sering mereka menggunakannya (*Frequency*), dan seberapa banyak layanan yang digunakan (*Monetary*). Dalam konteks penyewaan sepeda, kami akan melakukan adaptasi sebagai berikut:\n",
    "\n",
    "- **Recency**: Jumlah hari sejak penyewaan terakhir.\n",
    "- **Frequency**: Frekuensi penyewaan sepeda selama periode tertentu.\n",
    "- **Monetary (Adapted)**: Jumlah sepeda yang disewa dalam total.\n"
   ]
  },
  {
   "cell_type": "code",
   "execution_count": null,
   "id": "16f16a29",
   "metadata": {},
   "outputs": [],
   "source": [
    "\n",
    "# Membuat kolom baru untuk RFM analysis\n",
    "import datetime as dt\n",
    "\n",
    "# Mengkonversi kolom tanggal\n",
    "df_day['dteday'] = pd.to_datetime(df_day['dteday'])\n",
    "\n",
    "# Menentukan hari referensi (terakhir di dataset)\n",
    "max_date = df_day['dteday'].max()\n",
    "\n",
    "# Menghitung Recency (sejak berapa lama dari penyewaan terakhir)\n",
    "df_day['recency'] = (max_date - df_day['dteday']).dt.days\n",
    "\n",
    "# Menghitung Frequency (berapa kali penyewaan terjadi dalam setahun)\n",
    "df_day['frequency'] = df_day.groupby('yr')['cnt'].transform('sum')\n",
    "\n",
    "# Menggunakan 'cnt' sebagai Monetary (jumlah total penyewaan)\n",
    "df_day['monetary'] = df_day['cnt']\n",
    "\n",
    "# Menampilkan beberapa baris hasil analisis RFM\n",
    "df_day[['dteday', 'recency', 'frequency', 'monetary']].head()\n"
   ]
  },
  {
   "cell_type": "markdown",
   "id": "6dc5c0a7",
   "metadata": {},
   "source": [
    "\n",
    "### 4.1. Visualisasi Analisis RFM\n",
    "Kita akan memvisualisasikan hubungan antara *Recency*, *Frequency*, dan *Monetary* menggunakan scatter plot.\n"
   ]
  },
  {
   "cell_type": "code",
   "execution_count": null,
   "id": "c632c1aa",
   "metadata": {},
   "outputs": [],
   "source": [
    "\n",
    "# Visualisasi scatter plot dari Recency, Frequency, dan Monetary\n",
    "plt.figure(figsize=(10,6))\n",
    "sns.scatterplot(x='recency', y='monetary', hue='frequency', data=df_day, palette='viridis')\n",
    "plt.title('Analisis RFM - Recency vs Monetary dengan Frekuensi')\n",
    "plt.xlabel('Recency (Hari sejak penyewaan terakhir)')\n",
    "plt.ylabel('Monetary (Jumlah Penyewaan)')\n",
    "plt.show()\n"
   ]
  }
 ],
 "metadata": {},
 "nbformat": 4,
 "nbformat_minor": 5
}
